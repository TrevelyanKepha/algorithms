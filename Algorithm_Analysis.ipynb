{
 "cells": [
  {
   "cell_type": "markdown",
   "metadata": {},
   "source": [
    "# Algorithm Analysis"
   ]
  },
  {
   "cell_type": "markdown",
   "metadata": {},
   "source": [
    "- a data structure is a systematic way of organizing and accessing data\n",
    "- an algorithm is a step-by-step procedure for performing some task in a finite amount of time\n",
    "- The primary analysis tool we will use involves characterizing the running times of algorithms and data structure operations, with space usage also being of interest.\n",
    "- In general, the running time of an algorithm or data structure operation increases with the input size, although it may also   vary for different inputs of the same size.\n",
    "- We are interested in characterizing an algorithm’s running time as a function of the input size.\n"
   ]
  },
  {
   "cell_type": "markdown",
   "metadata": {},
   "source": [
    "## Experimental Studies"
   ]
  },
  {
   "cell_type": "markdown",
   "metadata": {},
   "source": [
    "- If an algorithm has been implemented, we can study its running time by executing it on various test inputs and recording the time spent during each execution.\n",
    "- A simple approach for doing this in Python is by using the time function of the time module. \n",
    "- This function reports the number of seconds, or fractions thereof\n",
    "eg:\n",
    "from time import time\n",
    "start time = time( )                  # record the starting time\n",
    "run algorithm\n",
    "end time = time( )                    # record the ending time\n",
    "elapsed = end time − start time       # compute the elapsed time\n",
    "\n",
    "*There are three major limitations to their use for algorithm analysis:*\n",
    "- Experimental running times of two algorithms are difficult to directly compare unless the experiments are performed in the same hardware and software environments.\n",
    "- Experiments can be done only on a limited set of test inputs; hence, they leave out the running times of inputs not included in the experiment (and these inputs may be important).\n",
    "- An algorithm must be fully implemented in order to execute it to study its running time experimentally.\n",
    "\n",
    "This last requirement is the most serious drawback to the use of experimental studies. At early stages of design, when considering a choice of data structures or algorithms, it would be foolish to spend a significant amount of time implementing an approach that could easily be deemed inferior by a higher-level analysis.\n",
    "\n",
    "*Our goal is to develop an approach to analyzing the efficiency of algorithms that:*\n",
    "1. Allows us to evaluate the relative efficiency of any two algorithms in a way that is independent of the hardware and software environment.\n",
    "2. Is performed by studying a high-level description of the algorithm without need for implementation.\n",
    "3. Takes into account all possible inputs.\n",
    "\n",
    "To analyze the running time of an algorithm without performing experiments, we perform an analysis directly on a high-level description of the algorithm (either in the form of an actual code fragment, or language-independent pseudo-code). \n",
    "We define a set of primitive operations such as the following:\n",
    "- Assigning an identifier to an object\n",
    "- Determining the object associated with an identifier\n",
    "- Performing an arithmetic operation (for example, adding two numbers)\n",
    "- Comparing two numbers\n",
    "- Accessing a single element of a Python list by index\n",
    "- Calling a function (excluding operations executed within the function)\n",
    "- Returning from a function.\n",
    "\n",
    "Instead of trying to determine the specific execution time of each primitive operation, we will simply count how many primitive operations are executed, and use this number t as a measure of the running time of the algorithm.\n",
    "\n",
    "*Measuring Operations as a Function of Input Size*\n",
    "\n",
    "To capture the order of growth of an algorithm’s running time, we will associate, with each algorithm, a function f(n) that characterizes the number of primitive operations that are performed as a function of the input size n\n",
    "\n",
    "*Focusing on the Worst-Case Input*\n",
    "\n",
    "An algorithm may run faster on some inputs than it does on others of the same size.\n",
    "Thus, we may wish to express the running time of an algorithm as the function of the input size obtained by taking the average over all possible inputs of the same size.\n",
    "Worst-case analysis is much easier than average-case analysis, as it requires only the ability to identify the worst-case input, which is often simple.\n",
    "This approach typically leads to better algorithms. \n",
    "Making the standard of success for an algorithm to perform well in the worst case necessarily requires that it will do well\n",
    "on every input. \n"
   ]
  },
  {
   "cell_type": "markdown",
   "metadata": {},
   "source": [
    " ## Functions Used"
   ]
  },
  {
   "cell_type": "markdown",
   "metadata": {},
   "source": [
    "### The Constant Function\n",
    "The simplest function we can think of is the constant function. \n",
    "This is the function,\n",
    "\n",
    " **f(n) = c,**   \n",
    " \n",
    "for some fixed constant c.\n",
    "\n",
    "for any argument n, the constant function f(n) assigns the value c. It does not matter what the value of n is; f(n) will always be equal to the constant value c"
   ]
  },
  {
   "cell_type": "markdown",
   "metadata": {},
   "source": [
    "### The Logarithm Function\n",
    "One of the interesting and sometimes even surprising aspects of the analysis of data structures and algorithms is the ubiquitous presence of the logarithm function,\n",
    "\n",
    "**f(n) = logb n**, for some constant b > 1. \n",
    "\n",
    "This function is defined as follows:\n",
    "x = logb n if and only if bx = n.\n",
    "By definition, logb 1 = 0. The value b is known as the base of the logarithm\n",
    "\n",
    "The most common base for the logarithm function in computer science is 2, as computers store integers in binary, and because a common operation in many algorithms is to repeatedly divide an input in half. \n",
    "In fact, this base is so common that we will typically omit it from the notation when it is 2.\n",
    "logn = log2 n\n",
    "\n",
    "In particular, we can easily compute the smallest integer greater than or equal to logb n (its so-called ceiling, logb n\u000e). \n",
    "For positive integer, n, this value is equal to the number of times we can divide n by b before we get a number less than or equal to 1. \n",
    "For example, the evaluation of log3 27\u000e is 3, because ((27/3)/3)/3 = 1.\n",
    "\n",
    "Given real numbers a > 0, b > 1, c > 0 and d > 1, we have:\n",
    "1. logb(ac) = logb a+logb c\n",
    "2. logb(a/c) = logb a−logb c\n",
    "3. logb(a**c) = clogb a   \n",
    "4. logb a = logd a/logd b\n",
    "5. blogd a = alogd b\n",
    "\n",
    "hence\n",
    "\n",
    "- log(2n) = log2+logn = 1+logn, by rule 1\n",
    "- log(n/2) = logn−log2 = logn−1, by rule 2\n",
    "- log n3 = 3log n, by rule 3\n",
    "- log 2n = nlog 2 = n · 1 = n, by rule 3\n",
    "- log4 n = (logn)/log 4 = (logn)/2, by rule 4\n",
    "- 2log n = nlog 2 = n1 = n, by rule 5."
   ]
  },
  {
   "cell_type": "markdown",
   "metadata": {},
   "source": [
    "### The Linear Function\n",
    "\n",
    "**f(n) = n.**\n",
    "\n",
    "\n",
    "That is, given an input value n, the linear function f assigns the value n itself.\n",
    "This function arises in algorithm analysis any time we have to do a single basic operation for each of n elements\n",
    "\n",
    "The linear function also represents the best running time we can hope to achieve for any algorithm that processes each of n objects that are not already in the computer’s memory, because reading in the n objects already requires n operations.\n"
   ]
  },
  {
   "cell_type": "markdown",
   "metadata": {},
   "source": [
    "### The N-Log-N Function\n",
    "\n",
    "**f(n) = nlogn**     - the function that assigns to an input n the value of n times the logarithm base-two of n\n",
    "\n",
    "This function grows a little more rapidly than the linear function and a lot less rapidly than the quadratic function; therefore, we would greatly prefer an algorithm with a running time that is proportional to nlogn, than one with quadratic\n",
    "running time.\n",
    "\n",
    "For example, the fastest possible algorithms for sorting n arbitrary values require time proportional to nlog n.\n",
    "\n"
   ]
  },
  {
   "cell_type": "markdown",
   "metadata": {},
   "source": [
    "### The Quadratic Function\n",
    "f(n) = n**2        -given an input value n, the function f assigns the product “n squared”).\n",
    "\n",
    "The main reason why the quadratic function appears in the analysis of algorithms is that there are many algorithms that have nested loops, where the inner loop performs a linear number of operations and the outer loop is performed a linear number of times. \n",
    "Thus, in such cases, the algorithm performs n · n = n2 operations.\n",
    "\n",
    "\n"
   ]
  },
  {
   "cell_type": "markdown",
   "metadata": {},
   "source": [
    "### The Cubic Function and Other Polynomials\n",
    "f(n) = n**3\n",
    "\n",
    "which assigns to an input value n the product of n with itself three times."
   ]
  },
  {
   "cell_type": "markdown",
   "metadata": {},
   "source": [
    "### The Exponential Function\n",
    "f(n) = b**n\n",
    "\n",
    "where b is a positive constant, called the base, and the argument n is the exponent.\n",
    "\n",
    "function f(n) assigns to the input argument n the value obtained by multiplying the base b by itself n times.\n",
    "(Exponent Rules): Given positive integers a, b, and c, we have\n",
    "1. (b**a)**c = b**(ac)\n",
    "2. b**ab**c = b**(a+c)\n",
    "3. b**a/b**c = b**(a−c)\n",
    "\n",
    "For example, we have the following:\n",
    "• 256 = 162 = (24)2 = 2**(4·2) = 2**8 = 256 (Exponent Rule 1)\n",
    "• 243 = 35 = 32+3 = 3**23**3 = 9 · 27 = 243 (Exponent Rule 2)\n",
    "• 16 = 1024/64 = 2**10/2**6 = 2**(10−6) = 2**4 = 16 (Exponent Rule 3)\n"
   ]
  },
  {
   "cell_type": "markdown",
   "metadata": {},
   "source": [
    "## Geometric Sums\n",
    "Suppose we have a loop for which each iteration takes a multiplicative factor longer\n",
    "than the previous one\n",
    "\n",
    "∑i=0 ai = 1+a+a2 +···+an\n",
    "(remembering that a0 = 1 if a > 0). This summation is equal to\n",
    "(an+1 −1)/a−1 .\n",
    "These summations are called geometric summations, because each term is geometrically larger than the previous one if a > 1. For example,\n",
    "\n",
    "1+2+4+8+···+2**(n−1) = 2**(n −1),\n",
    "for this is the largest integer that can be represented in binary notation using n bits."
   ]
  },
  {
   "cell_type": "markdown",
   "metadata": {},
   "source": [
    "## Asymptotic Analysis\n",
    "In algorithm analysis, we focus on the growth rate of the running time as a function of the input size n, taking a “big-picture” approach.\n",
    "\n",
    "def find max(data):\n",
    "”””Return the maximum element from a nonempty Python list.”””\n",
    "  biggest = data[0]          # The initial value to beat\n",
    "  for val in data:           # For each value:\n",
    "  if val > biggest           # if it is greater than the best so far,\n",
    "  biggest = val              # we have found a new best (so far)\n",
    "  return biggest             # When loop ends, biggest is the max\n",
    "  \n",
    "This is a classic example of an algorithm with a running time that grows proportional to n, as the loop executes once for each data element, with some fixed number of primitive operations executing for each pass.\n",
    "\n",
    "\n",
    "### The “Big-Oh” Notation\n",
    "Let f(n) and g(n) be functions mapping positive integers to positive real numbers.\n",
    "We say that **f(n) is O(g(n))** if there is a real constant c > 0 and an integer constant n0 ≥ 1 such that\n",
    "**f(n) ≤ cg(n), for n ≥ n0.\n",
    "\n",
    "This definition is often referred to as the “big-Oh” notation, for it is sometimes pronounced as “ f(n) is big-Oh of g(n).”\n",
    "\n",
    "**The big-Oh notation allows us to say that a function f(n) is “less than or equal to” another function g(n) up to a constant factor and in the asymptotic sense as n grows toward infinity.\n",
    "\n",
    "### Characterizing Running Times Using the Big-Oh Notation\n",
    "The big-Oh notation is used widely to characterize running times and space bounds in terms of some parameter n, which varies from problem to problem, but is always defined as a chosen measure of the “size” of the problem\n",
    "\n",
    "## Some Properties of the Big-Oh Notation\n",
    "The big-Oh notation allows us to ignore constant factors and lower-order terms and focus on the main components of a function that affect its growth.\n",
    "\n",
    "### Characterizing Functions in Simplest Terms\n",
    "While it is true that the function f(n) = 4n**3 + 3n**2 is O(n**5) or even O(n**4), it is more accurate to say that f(n) is O(n**3). \n",
    "We should strive instead to describe the function in the big-Oh in simplest terms.\n",
    "\n",
    "### Big-Omega\n",
    "\n",
    "Just as the big-Oh notation provides an asymptotic way of saying that a function is “less than or equal to” another function, the following notations provide an asymptotic way of saying that a function grows at a rate that is “greater than or equal to”\n",
    "that of another.\n",
    "**f(n) ≥ cg(n), for n ≥ n0.\n",
    "\n",
    "This definition allows us to say asymptotically that one function is greater than or equal to another, up to a constant factor.\n",
    "\n",
    "### Big-Theta\n",
    "In addition, there is a notation that allows us to say that two functions grow at the same rate, up to constant factors.\n",
    "\n",
    "cg(n) ≤ f(n) ≤ cg(n), for n ≥ n0.\n",
    "\n",
    "### Comparative Analysis\n",
    "Suppose two algorithms solving the same problem are available: an algorithm A, which has a running time of O(n), and an algorithm B, which has a running time of O(n2). Which algorithm is better? \n",
    "We know that n is O(n2), which implies that algorithm A is asymptotically better than algorithm B, although for a small value\n",
    "of n, B may have a lower running time than A.\n"
   ]
  },
  {
   "cell_type": "markdown",
   "metadata": {},
   "source": [
    "## Examples of Algorithm Analysis"
   ]
  },
  {
   "cell_type": "markdown",
   "metadata": {},
   "source": [
    "## A Quadratic-Time Algorithm"
   ]
  },
  {
   "cell_type": "code",
   "execution_count": 5,
   "metadata": {},
   "outputs": [
    {
     "ename": "SyntaxError",
     "evalue": "invalid syntax (<ipython-input-5-49f9547de3f0>, line 1)",
     "output_type": "error",
     "traceback": [
      "\u001b[1;36m  File \u001b[1;32m\"<ipython-input-5-49f9547de3f0>\"\u001b[1;36m, line \u001b[1;32m1\u001b[0m\n\u001b[1;33m    def prefix average1(S):\u001b[0m\n\u001b[1;37m                      ^\u001b[0m\n\u001b[1;31mSyntaxError\u001b[0m\u001b[1;31m:\u001b[0m invalid syntax\n"
     ]
    }
   ],
   "source": [
    "def prefix average1(S):\n",
    "    n = len(S) \n",
    "    A = [0]* n                 # create new list of n zeros\n",
    " for j in range(n):\n",
    "    total = 0                 # begin computing S[0] + ... + S[j]\n",
    " for i in range(j + 1):\n",
    "    total += S[i]\n",
    "    A[j] = total / (j+1)       # record the average\n",
    "return A"
   ]
  },
  {
   "cell_type": "markdown",
   "metadata": {},
   "source": [
    "- The statement, n = len(S), executes in constant time\n",
    "- The statement, A = [0]*n, causes the creation and initialization of a Python list with length n, and with all entries equal to zero. This uses a constant number of primitive operations per element, and thus runs in O(n) time.\n",
    "- There are two nested for loops, which are controlled, respectively, by counters j and i. \n",
    "The body of the outer loop, controlled by counter j, is executed n times, for j = 0,...,n − 1. Therefore, statements total = 0 and A[j] = total / (j+1) are executed n times each. \n",
    "This implies that these two statements, plus the management of counter j in the range, contribute a number of primitive operations proportional to n, that is, O(n) time.\n",
    "\n",
    "- The body of the inner loop, which is controlled by counter i, is executed j+1 times, depending on the current value of the outer loop counter j. Thus, statement total += S[i], in the inner loop, is executed 1+ 2+ 3+ ··· + n times. which implies that the statement in the inner loop contributes O(n2) time\n",
    "\n",
    "\n",
    "\n"
   ]
  },
  {
   "cell_type": "markdown",
   "metadata": {},
   "source": [
    "## A Linear-Time Algorithm"
   ]
  },
  {
   "cell_type": "code",
   "execution_count": 8,
   "metadata": {},
   "outputs": [
    {
     "ename": "SyntaxError",
     "evalue": "invalid syntax (<ipython-input-8-ec0df74fbc1d>, line 2)",
     "output_type": "error",
     "traceback": [
      "\u001b[1;36m  File \u001b[1;32m\"<ipython-input-8-ec0df74fbc1d>\"\u001b[1;36m, line \u001b[1;32m2\u001b[0m\n\u001b[1;33m    def prefix average3(S):\u001b[0m\n\u001b[1;37m                      ^\u001b[0m\n\u001b[1;31mSyntaxError\u001b[0m\u001b[1;31m:\u001b[0m invalid syntax\n"
     ]
    }
   ],
   "source": [
    "\n",
    "def prefix average3(S):\n",
    "  \"\"\" list such that, for all j, A[j] equals average of S[0], ..., S[j].\"\"\"\n",
    " n = len(S) \n",
    " \n",
    " A = [0] n # create new list of n zeros\n",
    " total = 0 # compute prefix sum as S[0] + S[1] + ...\n",
    " for j in range(n):\n",
    " total += S[j] # update prefix sum to include S[j]\n",
    " A[j] = total / (j+1) # compute average based on current sum\n",
    " return A\n",
    " \n",
    "- Initializing variables n and total uses O(1) time.\n",
    "- Initializing the list A uses O(n) time.\n",
    "- There is a single for loop, which is controlled by counter j. The maintenance of that counter by the range iterator contributes a total of O(n) time.\n",
    "- The body of the loop is executed n times, for j = 0,...,n − 1. Thus, statements total += S[j] and A[j] = total / (j+1) are executed n times each.\n",
    "Since each of these statements uses O(1) time per iteration, their overall contribution is O(n) time\n"
   ]
  },
  {
   "cell_type": "code",
   "execution_count": 9,
   "metadata": {},
   "outputs": [
    {
     "ename": "SyntaxError",
     "evalue": "invalid character in identifier (<ipython-input-9-0354de8415a0>, line 3)",
     "output_type": "error",
     "traceback": [
      "\u001b[1;36m  File \u001b[1;32m\"<ipython-input-9-0354de8415a0>\"\u001b[1;36m, line \u001b[1;32m3\u001b[0m\n\u001b[1;33m    ”””Return True if there is no element common to all three lists.”””\u001b[0m\n\u001b[1;37m            ^\u001b[0m\n\u001b[1;31mSyntaxError\u001b[0m\u001b[1;31m:\u001b[0m invalid character in identifier\n"
     ]
    }
   ],
   "source": [
    "## Three-Way Set Disjointness\n",
    "def disjoint1(A, B, C):\n",
    " # Return True if there is no element common to all three lists\n",
    " for a in A:\n",
    " for b in B:\n",
    " for c in C:\n",
    " if a == b == c:\n",
    " return False # we found a common value\n",
    " return True # if we reach this, sets are disjoint\n",
    "\n",
    "This simple algorithm loops through each possible triple of values from the three sets to see if those values are equivalent. \n",
    "If each of the original sets has size n, then the worst-case running time of this function is O(n3).\n",
    "\n",
    "An improved solution to this problem, taking advantage of this\n",
    "observation, is presented below\n",
    "\n",
    "def disjoint2(A, B, C):\n",
    " # True if there is no element common to all three lists.\n",
    " for a in A:\n",
    " for b in B:\n",
    " if a == b: # only check C if we found match from A and B\n",
    " for c in C:\n",
    " if a == c # (and thus a == b == c)\n",
    " return False # we found a common value\n",
    " return True # if we reach this, sets are disjoint\n",
    "\n",
    "There are at most n such pairs, and so the management of the loop over C, and the commands within the body of that loop, use at most O(n2) time.\n"
   ]
  },
  {
   "cell_type": "code",
   "execution_count": 16,
   "metadata": {},
   "outputs": [
    {
     "ename": "IndentationError",
     "evalue": "unindent does not match any outer indentation level (<ipython-input-16-bb00e5485871>, line 7)",
     "output_type": "error",
     "traceback": [
      "\u001b[1;36m  File \u001b[1;32m\"<ipython-input-16-bb00e5485871>\"\u001b[1;36m, line \u001b[1;32m7\u001b[0m\n\u001b[1;33m    return False # found duplicate pair\u001b[0m\n\u001b[1;37m                                       ^\u001b[0m\n\u001b[1;31mIndentationError\u001b[0m\u001b[1;31m:\u001b[0m unindent does not match any outer indentation level\n"
     ]
    }
   ],
   "source": [
    "### Element Uniqueness\n",
    "def unique1(S):\n",
    " # Return True if there are no duplicate elements in sequence S.\n",
    " for j in range(len(S)):\n",
    "        for k in range(j+1, len(S)):\n",
    "            if S[j] == S[k]:\n",
    "    return False # found duplicate pair\n",
    "return True # if we reach this, elements were unique\n",
    "\n",
    "Thus, the worst-case running time of this function is proportional to (n−1)+(n−2) +···+2+1,\n",
    "which we recognize as the familiar O(n2)"
   ]
  },
  {
   "cell_type": "code",
   "execution_count": 13,
   "metadata": {},
   "outputs": [
    {
     "ename": "SyntaxError",
     "evalue": "invalid character in identifier (<ipython-input-13-fcd149dfbb0b>, line 6)",
     "output_type": "error",
     "traceback": [
      "\u001b[1;36m  File \u001b[1;32m\"<ipython-input-13-fcd149dfbb0b>\"\u001b[1;36m, line \u001b[1;32m6\u001b[0m\n\u001b[1;33m    if S[j−1] == S[j]:\u001b[0m\n\u001b[1;37m           ^\u001b[0m\n\u001b[1;31mSyntaxError\u001b[0m\u001b[1;31m:\u001b[0m invalid character in identifier\n"
     ]
    }
   ],
   "source": [
    "### Using Sorting as a Problem-Solving Tool\n",
    "def unique2(S):\n",
    " # Return True if there are no duplicate elements in sequence S.\n",
    " temp = sorted(S) # create a sorted copy of S\n",
    " for j in range(1, len(temp)):\n",
    "    if S[j−1] == S[j]:\n",
    "        return False # found duplicate pair\n",
    " return True # if we reach this, elements were unique\n",
    "\n",
    "produces a copy of the original list with elements in sorted order. It guarantees a worst-case running\n",
    "time of O(nlogn)"
   ]
  },
  {
   "cell_type": "code",
   "execution_count": null,
   "metadata": {},
   "outputs": [],
   "source": []
  },
  {
   "cell_type": "code",
   "execution_count": null,
   "metadata": {},
   "outputs": [],
   "source": []
  },
  {
   "cell_type": "code",
   "execution_count": null,
   "metadata": {},
   "outputs": [],
   "source": []
  }
 ],
 "metadata": {
  "kernelspec": {
   "display_name": "Python 3",
   "language": "python",
   "name": "python3"
  },
  "language_info": {
   "codemirror_mode": {
    "name": "ipython",
    "version": 3
   },
   "file_extension": ".py",
   "mimetype": "text/x-python",
   "name": "python",
   "nbconvert_exporter": "python",
   "pygments_lexer": "ipython3",
   "version": "3.5.6"
  }
 },
 "nbformat": 4,
 "nbformat_minor": 2
}
